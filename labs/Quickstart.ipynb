{
 "cells": [
  {
   "cell_type": "markdown",
   "metadata": {
    "id": "ZnUQs11DflMR"
   },
   "source": [
    "# A quickstart introduction\n",
    "\n",
    "## An example ...\n",
    "As part of a [conservation effort](http://burrowingowlconservation.org/sightings/), Ann would like to report sightings of Burrowing Owls as she is hiking. Unfortunately, Ann doesn't know what a Burrowing Owl looks like so she goes to the web to look at pictures. What she has then, is a set of images that are labeled. By examining these labeled images she is **training** herself to recognize Burrowing Owls. \n",
    "\n",
    "![](https://raw.githubusercontent.com/zacharski/datamining-guide/master/labs/pics/owls2.png)\n",
    "\n",
    "\n",
    "More generally, we can call this set of labeled images used for training, the **labeled training dataset**. Let's dive into this idea of a labeled training dataset a bit more. Suppose Clara is given the task of distinguishing between pictures of telecaster style guitars and stratocaster. But not to worry, because her boss has given her thousands of pictures of guitars. When looking at a picture, the only thing Clara knows is that it is of either a stratocaster or a telecaster. For example, here are some pictures of stratocasters and telecasters. \n",
    "\n",
    "![](https://raw.githubusercontent.com/zacharski/datamining-guide/master/labs/pics/guitars2.png)\n",
    "\n",
    "\n",
    "Again, when looking at a picture all she knows is that it is a picture of a stratocaster or telecaster but she doesn't know which of the two it is. How long will it take for Clara to learn how to distinguish between these two guitar styles? Would the time be significantly shorter if her boss gave her 10,000 pictures or 100,000? If this is all the information she gets, she will never learn. What she needs is a **labeled** dataset. When presented with a picture she needs to know whether it is a picture of a stratocaster or a telecaster. \n",
    "\n",
    "\n",
    "**Now back to Ann learning to recognize Burrowing Owls**\n",
    "\n",
    "When Ann is learning to recognize Burrowing Owls from her labeled training set, she is developing a model of what features make it a Burrowing Owl. Once she is done learning she can be on a hike, see an animal, and classify it as a Burrowing Owl or something else. This is an **inference** process---based on the evidence of different features of the animal she can infer what it is. And to throw more jargon at you, this type of problem is called a **classification problem**. In classification problems the system is given the features of an object and it needs to classify that object. For example,\n",
    "\n",
    "* The features might be the words of a Twitter post (i.e., *Everything Everywhere All At Once was a f-ing masterpiece. I can't emphasize how great this movie is, it's just that great.*) and based on those features the system classifies the post as positve, negative, or neutral.\n",
    "* The features might be the pixels of an image and based on those pixels the system classifies the image into one of 1,000 categories (it's an image of an owl, a bicycle).\n",
    "\n",
    "\n",
    "\n",
    "## machine learning\n",
    "In machine learning, classification systems have a similar two step process. First is the training phase where the system uses a labeled training dataset to build a model. (We will learn about the architecture of these models and how they learn a bit later.) \n",
    "\n",
    "![](https://raw.githubusercontent.com/zacharski/datamining-guide/master/labs/pics/quickDiagram2.png)\n",
    "\n",
    "\n",
    "\n",
    "> **Supervised vs. Unsupervised learning**. When a machine learning system trains on labeled data this is called supervised learning. When a system learns with unlabeled data this is called unsupervised learning. A very common example of unsupervised learning is clustering where we might give our system a million unlabeled pictures and ask it to divide the images into 10 groups. \n",
    "\n",
    "Once we have a trained model, we can use that model for inference---we can give it pictures and the system can classify them as burrowing owl or something else. Again, the two phases are:\n",
    "\n",
    "1. training\n",
    "2. inference\n",
    "\n",
    "In this introduction we are going to ignore the training phase and learn a bit about inference. To do that we are going to use a pre-trained model. What *pre-trained model* simply means is that someone else designed the architecture of the model and trained it. \n",
    "\n",
    "### AlexNet\n",
    "\n",
    "The pretrained model we will use is AlexNet. AlexNet was designed by Alex Krishevsky, Ilya Sutskever, and Geoffrey Hinton. In 2012, AlexNet won a competition where the competing systems had to classify images into one of 1,000 categories. AlexNet had a 15% error rate and the error rate of the second place winner was over 25%. Since then there are dozens of systems that perform better, but we will use AlexNet because of its historic significance. The pretrained AlexNet was trained on a labeled training dataset of over one million images.\n",
    "\n",
    "## Let's get started\n",
    "\n",
    "#### First, a note ...\n",
    "The intent of this notebook is for you to learn a little bit about data mining and have a bit of fun. The idea is not for you to understand every line of code. That will come later.\n",
    "\n",
    "**Note:**\n",
    "\n",
    "**First let's set the runtime to GPU (Graphics Processing Unit) -- click on 'runtime' in the menu above, select 'Change runtime type' and pick 'GPU'.**"
   ]
  },
  {
   "cell_type": "markdown",
   "metadata": {
    "id": "VbSyRnWYflMY"
   },
   "source": [
    "### 1. Install Pytorch Lightning.\n",
    "First, let's install the Pytorch Lightning library on our virtual machine"
   ]
  },
  {
   "cell_type": "code",
   "execution_count": null,
   "metadata": {
    "colab": {
     "base_uri": "https://localhost:8080/"
    },
    "id": "pm_bhhMjflMY",
    "outputId": "b6161562-7a42-4663-c1e0-c06f364e54bd",
    "scrolled": true
   },
   "outputs": [],
   "source": [
    "!pip install pytorch-lightning\n"
   ]
  },
  {
   "cell_type": "markdown",
   "metadata": {
    "id": "e7vaBQx2flMa"
   },
   "source": [
    "The exclamation point (aka *bang*) at the beginning of the line instructs the system to interpret the rest of the line as a Unix command (something you might type in a Unix terminal).\n",
    "\n",
    "For example\n",
    "\n",
    "```!ls```\n",
    "\n",
    "will list the contents of the current directory\n",
    "\n",
    "`pip` is the **p**ackage **i**nstaller for **P**ython. As the name suggests, it install Python libraries (packages) that are not already present in the system. In this case,\n",
    "\n",
    "In the case above, we are installing the `pytorch-lightning` library.\n",
    "\n",
    "\n",
    "### 2. Import the computer vision library\n"
   ]
  },
  {
   "cell_type": "code",
   "execution_count": null,
   "metadata": {
    "id": "jpMG96oTflMb"
   },
   "outputs": [],
   "source": [
    "from torchvision import models\n",
    "import torch"
   ]
  },
  {
   "cell_type": "markdown",
   "metadata": {
    "id": "vpQo-Pb6flMb"
   },
   "source": [
    "Without the bang Jupyter interprets code lines in this notebook as a Python commands which\n",
    "\n",
    "```from torchvision import models``` is.\n",
    "\n",
    "`torchvision` is a library containing models and other components for computer vision. `torch` is the basic PyTorch deep learning library.\n",
    "\n",
    "There are many pretrained models available to use. Let's take a look at the possibilities:"
   ]
  },
  {
   "cell_type": "code",
   "execution_count": null,
   "metadata": {
    "colab": {
     "base_uri": "https://localhost:8080/"
    },
    "id": "uNY3j0YqflMb",
    "outputId": "db02a742-d38f-4259-ab83-05e83e4a45af"
   },
   "outputs": [],
   "source": [
    "dir(models)"
   ]
  },
  {
   "cell_type": "markdown",
   "metadata": {
    "id": "T0IyX-BiflMc"
   },
   "source": [
    "That is a lot of pretrained models we can use!\n",
    "\n",
    "### 3. Load  the pretrained AlexNet model."
   ]
  },
  {
   "cell_type": "code",
   "execution_count": null,
   "metadata": {
    "colab": {
     "base_uri": "https://localhost:8080/",
     "height": 158,
     "referenced_widgets": [
      "11e9bfa4b7e64d788e94bad5c0244c11",
      "5125b91b649e4794b669ce7c34961ef3",
      "b0b17a2c45214cb5bccf7825b47c8c62",
      "15499769cd754b2c81f19c16b45f6562",
      "da60b7fc301b4e0fb507dd31bfc56424",
      "6cc1589b0c424261ab80f3ab0877ba83",
      "2ef4854e94f84d53a6812cdbea9963fe",
      "0323ec6fadde4d29a033e508966390c2",
      "f57437e8b8c146d691aa72d5ab0a8ceb",
      "19af6c6424a24dce856458562929b985",
      "6c03c55295f7428498fb5b9ed65460f6"
     ]
    },
    "id": "lxiDfvuKflMc",
    "outputId": "e5e9291d-ddbc-4de8-bda1-3b9222edc490"
   },
   "outputs": [],
   "source": [
    "alexnet = models.alexnet(pretrained=True)"
   ]
  },
  {
   "cell_type": "markdown",
   "metadata": {
    "id": "4yvDAoqNflMc"
   },
   "source": [
    "Of course we could call this model anything we want:\n",
    "\n",
    "```\n",
    "alexnet_model = models.alexnet(pretrained=True)\n",
    "myModel = models.alexnet(pretrained=True)\n",
    "```\n",
    "\n",
    "Now we have a pretrained model loaded into our system. We would like to use the model to classify our own images. \n",
    "\n",
    "## Inference\n",
    "\n",
    "We would like to give AlexNet an image like:\n",
    "\n",
    "![](https://raw.githubusercontent.com/zacharski/datamining-guide/master/labs/pics/poodle.jpg)\n",
    "\n",
    "and have AlexNet classify it. First, let's download the image file from the web using the Unix command `curl`:"
   ]
  },
  {
   "cell_type": "code",
   "execution_count": null,
   "metadata": {
    "colab": {
     "base_uri": "https://localhost:8080/"
    },
    "id": "FXZzt6a6flMc",
    "outputId": "22b2d175-9e91-49b6-acd3-aab438be80db"
   },
   "outputs": [],
   "source": [
    "!curl http://zacharski.org/files/courses/dmpics/poodle.jpg -o poodle.jpg"
   ]
  },
  {
   "cell_type": "markdown",
   "metadata": {
    "id": "umQSlZbRflMd"
   },
   "source": [
    "Next, let's load that image into Python using PIL (Python Imaging Library):"
   ]
  },
  {
   "cell_type": "code",
   "execution_count": null,
   "metadata": {
    "id": "2nI-yVPYflMd"
   },
   "outputs": [],
   "source": [
    "from PIL import Image\n",
    "img = Image.open(\"poodle.jpg\")"
   ]
  },
  {
   "cell_type": "markdown",
   "metadata": {
    "id": "4OTUlDW-flMd"
   },
   "source": [
    "Now let's display that image:"
   ]
  },
  {
   "cell_type": "code",
   "execution_count": null,
   "metadata": {
    "colab": {
     "base_uri": "https://localhost:8080/",
     "height": 665
    },
    "id": "3Mny1F_BflMe",
    "outputId": "73183919-a79d-4112-c168-c31bc6713fbf"
   },
   "outputs": [],
   "source": [
    "img"
   ]
  },
  {
   "cell_type": "markdown",
   "metadata": {
    "id": "cSdD1WZQflMe"
   },
   "source": [
    "(If that doesn't display an image change the code to `img.show`)\n",
    "\n",
    "\n",
    "The size of this particular image is 4032x3024 which is slightly over 12 million pixels. That is a lot of pixels! AlexNet was designed to work with an image size of 224x224. So we need to transform the original image to AlexNet specifications by using some methods from the `torchvision` library. \n",
    "\n",
    "First we will use `transforms.Resize(256)` which transforms the image so that the smaller dimension of the original image will be resized to 256.  ([PyTorch documentation](https://pytorch.org/vision/main/generated/torchvision.transforms.Resize.html)). The resultant image will be 341x256.\n",
    "\n",
    "![](https://raw.githubusercontent.com/zacharski/datamining-guide/master/labs/pics/poodleSmall.jpg)\n",
    "\n",
    "\n",
    "To get the image to the final 224x224 size we are going to use `transforms.CenterCrop(224)` which as the name suggests crops the image at the center to a 224x224 square. The result will look something like:\n",
    "\n",
    "![](https://raw.githubusercontent.com/zacharski/datamining-guide/master/labs/pics/poodleCropped.jpg)\n",
    "\n",
    "\n",
    "\n",
    "Then we will convert the image to an array using `ToTensor`. Since each pixel has values for red, green and blue (RGB), the resulting array will be 224x224x3. Finally we normalize the tensor using `transforms.Normalize` ([PyTorch Documentation](https://pytorch.org/vision/main/generated/torchvision.transforms.Normalize.html?highlight=normalize#torchvision.transforms.Normalize)). \n",
    "\n",
    "\n",
    "\n",
    "Here are those transformations put together:\n",
    "\n"
   ]
  },
  {
   "cell_type": "code",
   "execution_count": null,
   "metadata": {
    "id": "6rmI2eXBflMe"
   },
   "outputs": [],
   "source": [
    "from torchvision import transforms\n",
    "transform = transforms.Compose([\n",
    "    transforms.Resize(256),\n",
    "    transforms.CenterCrop(224),\n",
    "    transforms.ToTensor(),\n",
    "    transforms.Normalize(\n",
    "        mean=[0.485, 0.456, 0.406],\n",
    "        std=[0.229,0.224,0.225])\n",
    "])"
   ]
  },
  {
   "cell_type": "markdown",
   "metadata": {
    "id": "aPmTNuADflMf"
   },
   "source": [
    "You may wonder where the numbers come from in \n",
    "\n",
    "```\n",
    "        mean=[0.485, 0.456, 0.406],\n",
    "        std=[0.229,0.224,0.225])\n",
    "```\n",
    "These are the mean and standard deviation of the RGB values for all the pixels in all the images in the ImageNet dataset.\n",
    "\n",
    "Let's use this method we defined to transform the image:\n"
   ]
  },
  {
   "cell_type": "code",
   "execution_count": null,
   "metadata": {
    "id": "Z3I_BAn9flMf"
   },
   "outputs": [],
   "source": [
    "img_t = transform(img)\n",
    "\n",
    "batch_t = torch.unsqueeze(img_t, 0)\n"
   ]
  },
  {
   "cell_type": "markdown",
   "metadata": {
    "id": "iUHn9foEflMf"
   },
   "source": [
    "Image classification models typically classify an array of images at once rather than a single image. \n",
    "\n",
    "```\n",
    "    batch_t = torch.unsqueeze(img_t, 0)\n",
    "```\n",
    "creates a tensor with one element `img_t` which itself is a tensor. In a sense, an array of image arrays.\n",
    "\n",
    "Now we have prepared the image and are prepared to pass it to alexnet for inference.\n",
    "\n",
    "### Model Inference\n",
    "\n",
    "In PyTorch, models can be in two modes and we can toggle between them.\n",
    "\n",
    "* `alexnet.eval()` puts the model in inference mode so it can make predictions.\n",
    "* `alexnet.train()` puts the model in training mode.\n",
    "\n",
    "\n",
    "Let's get the model ready for inference:"
   ]
  },
  {
   "cell_type": "code",
   "execution_count": null,
   "metadata": {
    "id": "07sjKJ6CflMf",
    "outputId": "5c3e71a3-3f92-48c7-a28d-7fdefc78dc0f"
   },
   "outputs": [],
   "source": [
    "alexnet.eval()"
   ]
  },
  {
   "cell_type": "markdown",
   "metadata": {
    "id": "H22BjQSlflMg"
   },
   "source": [
    "As you can see, `alexnet.eval()` displays a lot of information about the architecture of the model. We will learn about the architecture of deep learning models about midway through the course.\n",
    "\n",
    "Now let's pass the tensor of our image to alexnet and get the output. Plus, let's examine the shape of the output."
   ]
  },
  {
   "cell_type": "code",
   "execution_count": null,
   "metadata": {
    "id": "ksUu8iE1flMg",
    "outputId": "2f55721b-8f96-4be1-9d93-c0ef5f498331"
   },
   "outputs": [],
   "source": [
    "out = alexnet(batch_t)\n",
    "print(out.shape)"
   ]
  },
  {
   "cell_type": "markdown",
   "metadata": {
    "id": "U9WSfV73flMg"
   },
   "source": [
    "As we see `out` is a one dimensional tensor with 1,000 different values. We get 1,000 values because Image_net contained 1,000 labels for the images. The larger the number the more likely the image is of that class. "
   ]
  },
  {
   "cell_type": "code",
   "execution_count": null,
   "metadata": {
    "id": "itIaAMZEflMh",
    "outputId": "a02be007-1d55-42a8-9ccd-a915bd5c813b"
   },
   "outputs": [],
   "source": [
    "out"
   ]
  },
  {
   "cell_type": "markdown",
   "metadata": {
    "id": "PiH6cKiaflMh"
   },
   "source": [
    "Let's convert those values to probabilities:"
   ]
  },
  {
   "cell_type": "code",
   "execution_count": null,
   "metadata": {
    "id": "0UORMvTUflMh",
    "outputId": "c11d198f-9ca3-4ff2-b513-81c04a458e0b"
   },
   "outputs": [],
   "source": [
    "percentage = torch.nn.functional.softmax(out, dim=1)[0] * 100\n",
    "percentage"
   ]
  },
  {
   "cell_type": "markdown",
   "metadata": {
    "id": "yP-kvbkmflMh"
   },
   "source": [
    "As you can see, the image is not very likely to be one of the first 5 labels. What are the actual names of these labels. First let's download the label name file:\n"
   ]
  },
  {
   "cell_type": "code",
   "execution_count": null,
   "metadata": {
    "colab": {
     "base_uri": "https://localhost:8080/"
    },
    "id": "lmDUeY4kflMi",
    "outputId": "e765f683-35ff-4ce9-a1f1-08c2aa074c54"
   },
   "outputs": [],
   "source": [
    "!curl http://zacharski.org/files/courses/dmpics/imagenet_classes.txt -o imagenet_classes.txt\n"
   ]
  },
  {
   "cell_type": "markdown",
   "metadata": {
    "id": "LjlBPVW9flMi"
   },
   "source": [
    "Let's load in those labels:"
   ]
  },
  {
   "cell_type": "code",
   "execution_count": null,
   "metadata": {
    "colab": {
     "base_uri": "https://localhost:8080/"
    },
    "id": "toeNd63OflMi",
    "outputId": "69118c0c-21a2-419f-e836-ab05f5ba3561"
   },
   "outputs": [],
   "source": [
    "with open('imagenet_classes.txt') as f:\n",
    "\n",
    "  labels = [line.strip() for line in f.readlines()]\n",
    "print(labels[:5])"
   ]
  },
  {
   "cell_type": "markdown",
   "metadata": {
    "id": "hee-TGdYflMi"
   },
   "source": [
    "The first five labels are of types of fish. It is good to know our model didn't think our image was of a fish. What does our model think?\n"
   ]
  },
  {
   "cell_type": "code",
   "execution_count": null,
   "metadata": {
    "id": "mLzeK4WIflMj",
    "outputId": "b4616a34-c769-44e4-baa0-f28a6844a170"
   },
   "outputs": [],
   "source": [
    "z_, index = torch.max(out, 1)\n",
    "print(index)"
   ]
  },
  {
   "cell_type": "markdown",
   "metadata": {
    "id": "zlPw0CvPflMj"
   },
   "source": [
    "Okay, the label at index 267 is the most likely. Let's print that out:"
   ]
  },
  {
   "cell_type": "code",
   "execution_count": null,
   "metadata": {
    "id": "VMDZWOmEflMj",
    "outputId": "0c6a2c72-23c3-4fcf-8983-a358148a420f"
   },
   "outputs": [],
   "source": [
    "print(labels[index[0]], percentage[index[0]].item())\n"
   ]
  },
  {
   "cell_type": "markdown",
   "metadata": {
    "id": "dHH57CliflMj"
   },
   "source": [
    "Fortunately, alexnet correctly thinks the image is of a standard poodle with 38.65% likelihood. \n",
    "\n",
    "The ImageNet competition evaluated systems based on the top-5 error rate meaning the system was judged correct if the correct label was among the top 5 the system predicted.  Let's look at the top 5 our model predicted for this image."
   ]
  },
  {
   "cell_type": "code",
   "execution_count": null,
   "metadata": {
    "id": "xL-_AsjXflMk",
    "outputId": "9a6ffef7-b68c-489a-e028-ce7daa695250"
   },
   "outputs": [],
   "source": [
    "_, indices = torch.sort(out, descending=True)\n",
    "[(labels[idx], percentage[idx].item()) for idx in indices[0][:5]]\n"
   ]
  },
  {
   "cell_type": "markdown",
   "metadata": {
    "id": "_dEP9tLjflMk"
   },
   "source": [
    "Let's turn what we learned into a function and try predicting the class of other images."
   ]
  },
  {
   "cell_type": "code",
   "execution_count": null,
   "metadata": {
    "id": "O3BT8abIflMk"
   },
   "outputs": [],
   "source": [
    "import  requests\n",
    "\n",
    "def predict(url):\n",
    "    # first download the image from the web\n",
    "    r = requests.get(url)\n",
    "    with open('tmp.jpg', 'wb') as f:\n",
    "        f.write(r.content)\n",
    "    img = Image.open('tmp.jpg')\n",
    "    img.show()\n",
    "    img_t = transform(img)\n",
    "    batch_t = torch.unsqueeze(img_t, 0)\n",
    "    out = alexnet(batch_t)\n",
    "    _, indices = torch.sort(out, descending=True)\n",
    "    percentage = torch.nn.functional.softmax(out, dim=1)[0] * 100\n",
    "    return([(labels[idx], percentage[idx].item()) for idx in indices[0][:5]])\n"
   ]
  },
  {
   "cell_type": "markdown",
   "metadata": {
    "id": "PbXBwIfxflMk"
   },
   "source": [
    "Let's find out what the 1,000 labels are:"
   ]
  },
  {
   "cell_type": "code",
   "execution_count": null,
   "metadata": {
    "colab": {
     "base_uri": "https://localhost:8080/"
    },
    "id": "pCsSr4vjflMl",
    "outputId": "52a05cc0-e315-401c-c982-24e4db0963c0"
   },
   "outputs": [],
   "source": [
    "\n",
    "line = ''\n",
    "for i in range(len(labels)):\n",
    "  line += '%-25s' %labels[i]\n",
    "  if (i + 1) % 4 == 0:\n",
    "    print(line)\n",
    "    line = ''"
   ]
  },
  {
   "cell_type": "markdown",
   "metadata": {
    "id": "MYkTXbujflMl"
   },
   "source": [
    "Electric Guitar is one of the labels. Let's see if our model correctly identifies a picture of one:"
   ]
  },
  {
   "cell_type": "code",
   "execution_count": null,
   "metadata": {
    "id": "RUjOor_oflMl",
    "outputId": "bce9cb74-cf0a-45c6-cd3d-f1d412c1e109",
    "scrolled": true
   },
   "outputs": [],
   "source": [
    "predict('https://upload.wikimedia.org/wikipedia/commons/6/63/Fender_Stratocaster_004-2.jpg')\n"
   ]
  },
  {
   "cell_type": "markdown",
   "metadata": {
    "id": "s8msErztflMl"
   },
   "source": [
    "Our system is 99% sure that this image is an electric guitar.\n",
    "\n",
    "While AlexNet doesn't know about burrowing owls it does know about great horned owls. Let's give it a picture of a burrowing owl and see what it does:"
   ]
  },
  {
   "cell_type": "code",
   "execution_count": null,
   "metadata": {
    "id": "yUMAPhl-flMm",
    "outputId": "f9fc0a25-80f0-4ee7-f19c-8ad322218872"
   },
   "outputs": [],
   "source": [
    "predict('https://content.api.news/v3/images/bin/4b100b1f7c32e897f08780600beb7620?width=1280')"
   ]
  },
  {
   "cell_type": "markdown",
   "metadata": {
    "id": "1vkazE55flMm"
   },
   "source": [
    "That is a reasonable response!\n",
    "\n",
    "Let's try a cello."
   ]
  },
  {
   "cell_type": "code",
   "execution_count": null,
   "metadata": {
    "id": "4bKIiLdNflMm",
    "outputId": "7349698c-763c-49db-9b7c-c1e281e91a8c"
   },
   "outputs": [],
   "source": [
    "predict('https://cdn.shopify.com/s/files/1/2290/4197/products/Model_300_Cello_1_1024x1024.jpg')"
   ]
  },
  {
   "cell_type": "markdown",
   "metadata": {
    "id": "yCLaql64flMm"
   },
   "source": [
    "![](https://raw.githubusercontent.com/zacharski/datamining-guide/master/labs/pics/torchdivide.png)\n",
    "\n",
    "\n",
    "# <font color='#EE4C2C'>You Try ...</font> \n",
    "Ok, it is time for you to try out what you just learned.\n",
    "\n",
    "## <font color='#EE4C2C'>1. Your own images</font> \n",
    "Try this out on three images of your own."
   ]
  },
  {
   "cell_type": "code",
   "execution_count": null,
   "metadata": {
    "id": "GanSdKhSflMn"
   },
   "outputs": [],
   "source": []
  },
  {
   "cell_type": "code",
   "execution_count": null,
   "metadata": {
    "id": "PoHaOAiZflMn"
   },
   "outputs": [],
   "source": []
  },
  {
   "cell_type": "code",
   "execution_count": null,
   "metadata": {
    "id": "xhck8yneflMn"
   },
   "outputs": [],
   "source": []
  },
  {
   "cell_type": "markdown",
   "metadata": {
    "id": "kbFQ20DUflMn"
   },
   "source": [
    "![](https://raw.githubusercontent.com/zacharski/datamining-guide/master/labs/pics/PyDivideTwo.png)\n",
    "## <font color='#EE4C2C'>2. Squeezenet</font> \n",
    "\n",
    "Let's try a different pretrained model, `squeezenet1_1`. Load the model, construct a function that will make predictions based on the model and try it out on the images above that we provided plus your three.</span>"
   ]
  },
  {
   "cell_type": "code",
   "execution_count": null,
   "metadata": {
    "id": "57or8T7-flMn"
   },
   "outputs": [],
   "source": [
    "#"
   ]
  },
  {
   "cell_type": "code",
   "execution_count": null,
   "metadata": {
    "id": "7eM_-FIdflMn"
   },
   "outputs": [],
   "source": []
  },
  {
   "cell_type": "code",
   "execution_count": null,
   "metadata": {
    "id": "5wxkMyuAflMo"
   },
   "outputs": [],
   "source": []
  },
  {
   "cell_type": "code",
   "execution_count": null,
   "metadata": {
    "id": "7oglJGX8flMo"
   },
   "outputs": [],
   "source": []
  },
  {
   "cell_type": "code",
   "execution_count": null,
   "metadata": {
    "id": "05iaa3rhflMo"
   },
   "outputs": [],
   "source": []
  },
  {
   "cell_type": "code",
   "execution_count": null,
   "metadata": {
    "id": "yAgCjkvwflMo"
   },
   "outputs": [],
   "source": []
  },
  {
   "cell_type": "markdown",
   "metadata": {
    "id": "mqdx9MG8flMo"
   },
   "source": [
    "![](https://raw.githubusercontent.com/zacharski/datamining-guide/master/labs/pics/PyDivideTwo.png)\n",
    "## <font color='#EE4C2C'>2. Summary</font> \n",
    "\n",
    "Please answer the following questions by editing this markdown cell. </span>\n",
    "\n",
    "1. Classification machine learning models have two modes. What are they?  <font color='#EE4C2C'>your answer here</font> \n",
    "2. What is a pretrained model? \n",
    "2. What is supervised learning? What is unsupervised learning?\n",
    "3. Describe in a few sentences what Squeezenet is. (requires a bit of googling)\n",
    "4. Compare the performance of AlexNet over Squeezenet. Was one more accurate than the other? Did you notice any other differences? \n",
    "    \n"
   ]
  },
  {
   "cell_type": "markdown",
   "metadata": {
    "id": "J0aK-Aw_flMo"
   },
   "source": []
  }
 ],
 "metadata": {
  "accelerator": "GPU",
  "colab": {
   "collapsed_sections": [],
   "name": "01-quickstart.ipynb",
   "provenance": []
  },
  "gpuClass": "standard",
  "kernelspec": {
   "display_name": "Python 3 (ipykernel)",
   "language": "python",
   "name": "python3"
  },
  "language_info": {
   "codemirror_mode": {
    "name": "ipython",
    "version": 3
   },
   "file_extension": ".py",
   "mimetype": "text/x-python",
   "name": "python",
   "nbconvert_exporter": "python",
   "pygments_lexer": "ipython3",
   "version": "3.9.12"
  },
  "widgets": {
   "application/vnd.jupyter.widget-state+json": {
    "0323ec6fadde4d29a033e508966390c2": {
     "model_module": "@jupyter-widgets/base",
     "model_module_version": "1.2.0",
     "model_name": "LayoutModel",
     "state": {
      "_model_module": "@jupyter-widgets/base",
      "_model_module_version": "1.2.0",
      "_model_name": "LayoutModel",
      "_view_count": null,
      "_view_module": "@jupyter-widgets/base",
      "_view_module_version": "1.2.0",
      "_view_name": "LayoutView",
      "align_content": null,
      "align_items": null,
      "align_self": null,
      "border": null,
      "bottom": null,
      "display": null,
      "flex": null,
      "flex_flow": null,
      "grid_area": null,
      "grid_auto_columns": null,
      "grid_auto_flow": null,
      "grid_auto_rows": null,
      "grid_column": null,
      "grid_gap": null,
      "grid_row": null,
      "grid_template_areas": null,
      "grid_template_columns": null,
      "grid_template_rows": null,
      "height": null,
      "justify_content": null,
      "justify_items": null,
      "left": null,
      "margin": null,
      "max_height": null,
      "max_width": null,
      "min_height": null,
      "min_width": null,
      "object_fit": null,
      "object_position": null,
      "order": null,
      "overflow": null,
      "overflow_x": null,
      "overflow_y": null,
      "padding": null,
      "right": null,
      "top": null,
      "visibility": null,
      "width": null
     }
    },
    "11e9bfa4b7e64d788e94bad5c0244c11": {
     "model_module": "@jupyter-widgets/controls",
     "model_module_version": "1.5.0",
     "model_name": "HBoxModel",
     "state": {
      "_dom_classes": [],
      "_model_module": "@jupyter-widgets/controls",
      "_model_module_version": "1.5.0",
      "_model_name": "HBoxModel",
      "_view_count": null,
      "_view_module": "@jupyter-widgets/controls",
      "_view_module_version": "1.5.0",
      "_view_name": "HBoxView",
      "box_style": "",
      "children": [
       "IPY_MODEL_5125b91b649e4794b669ce7c34961ef3",
       "IPY_MODEL_b0b17a2c45214cb5bccf7825b47c8c62",
       "IPY_MODEL_15499769cd754b2c81f19c16b45f6562"
      ],
      "layout": "IPY_MODEL_da60b7fc301b4e0fb507dd31bfc56424"
     }
    },
    "15499769cd754b2c81f19c16b45f6562": {
     "model_module": "@jupyter-widgets/controls",
     "model_module_version": "1.5.0",
     "model_name": "HTMLModel",
     "state": {
      "_dom_classes": [],
      "_model_module": "@jupyter-widgets/controls",
      "_model_module_version": "1.5.0",
      "_model_name": "HTMLModel",
      "_view_count": null,
      "_view_module": "@jupyter-widgets/controls",
      "_view_module_version": "1.5.0",
      "_view_name": "HTMLView",
      "description": "",
      "description_tooltip": null,
      "layout": "IPY_MODEL_19af6c6424a24dce856458562929b985",
      "placeholder": "​",
      "style": "IPY_MODEL_6c03c55295f7428498fb5b9ed65460f6",
      "value": " 233M/233M [00:11&lt;00:00, 27.4MB/s]"
     }
    },
    "19af6c6424a24dce856458562929b985": {
     "model_module": "@jupyter-widgets/base",
     "model_module_version": "1.2.0",
     "model_name": "LayoutModel",
     "state": {
      "_model_module": "@jupyter-widgets/base",
      "_model_module_version": "1.2.0",
      "_model_name": "LayoutModel",
      "_view_count": null,
      "_view_module": "@jupyter-widgets/base",
      "_view_module_version": "1.2.0",
      "_view_name": "LayoutView",
      "align_content": null,
      "align_items": null,
      "align_self": null,
      "border": null,
      "bottom": null,
      "display": null,
      "flex": null,
      "flex_flow": null,
      "grid_area": null,
      "grid_auto_columns": null,
      "grid_auto_flow": null,
      "grid_auto_rows": null,
      "grid_column": null,
      "grid_gap": null,
      "grid_row": null,
      "grid_template_areas": null,
      "grid_template_columns": null,
      "grid_template_rows": null,
      "height": null,
      "justify_content": null,
      "justify_items": null,
      "left": null,
      "margin": null,
      "max_height": null,
      "max_width": null,
      "min_height": null,
      "min_width": null,
      "object_fit": null,
      "object_position": null,
      "order": null,
      "overflow": null,
      "overflow_x": null,
      "overflow_y": null,
      "padding": null,
      "right": null,
      "top": null,
      "visibility": null,
      "width": null
     }
    },
    "2ef4854e94f84d53a6812cdbea9963fe": {
     "model_module": "@jupyter-widgets/controls",
     "model_module_version": "1.5.0",
     "model_name": "DescriptionStyleModel",
     "state": {
      "_model_module": "@jupyter-widgets/controls",
      "_model_module_version": "1.5.0",
      "_model_name": "DescriptionStyleModel",
      "_view_count": null,
      "_view_module": "@jupyter-widgets/base",
      "_view_module_version": "1.2.0",
      "_view_name": "StyleView",
      "description_width": ""
     }
    },
    "5125b91b649e4794b669ce7c34961ef3": {
     "model_module": "@jupyter-widgets/controls",
     "model_module_version": "1.5.0",
     "model_name": "HTMLModel",
     "state": {
      "_dom_classes": [],
      "_model_module": "@jupyter-widgets/controls",
      "_model_module_version": "1.5.0",
      "_model_name": "HTMLModel",
      "_view_count": null,
      "_view_module": "@jupyter-widgets/controls",
      "_view_module_version": "1.5.0",
      "_view_name": "HTMLView",
      "description": "",
      "description_tooltip": null,
      "layout": "IPY_MODEL_6cc1589b0c424261ab80f3ab0877ba83",
      "placeholder": "​",
      "style": "IPY_MODEL_2ef4854e94f84d53a6812cdbea9963fe",
      "value": "100%"
     }
    },
    "6c03c55295f7428498fb5b9ed65460f6": {
     "model_module": "@jupyter-widgets/controls",
     "model_module_version": "1.5.0",
     "model_name": "DescriptionStyleModel",
     "state": {
      "_model_module": "@jupyter-widgets/controls",
      "_model_module_version": "1.5.0",
      "_model_name": "DescriptionStyleModel",
      "_view_count": null,
      "_view_module": "@jupyter-widgets/base",
      "_view_module_version": "1.2.0",
      "_view_name": "StyleView",
      "description_width": ""
     }
    },
    "6cc1589b0c424261ab80f3ab0877ba83": {
     "model_module": "@jupyter-widgets/base",
     "model_module_version": "1.2.0",
     "model_name": "LayoutModel",
     "state": {
      "_model_module": "@jupyter-widgets/base",
      "_model_module_version": "1.2.0",
      "_model_name": "LayoutModel",
      "_view_count": null,
      "_view_module": "@jupyter-widgets/base",
      "_view_module_version": "1.2.0",
      "_view_name": "LayoutView",
      "align_content": null,
      "align_items": null,
      "align_self": null,
      "border": null,
      "bottom": null,
      "display": null,
      "flex": null,
      "flex_flow": null,
      "grid_area": null,
      "grid_auto_columns": null,
      "grid_auto_flow": null,
      "grid_auto_rows": null,
      "grid_column": null,
      "grid_gap": null,
      "grid_row": null,
      "grid_template_areas": null,
      "grid_template_columns": null,
      "grid_template_rows": null,
      "height": null,
      "justify_content": null,
      "justify_items": null,
      "left": null,
      "margin": null,
      "max_height": null,
      "max_width": null,
      "min_height": null,
      "min_width": null,
      "object_fit": null,
      "object_position": null,
      "order": null,
      "overflow": null,
      "overflow_x": null,
      "overflow_y": null,
      "padding": null,
      "right": null,
      "top": null,
      "visibility": null,
      "width": null
     }
    },
    "b0b17a2c45214cb5bccf7825b47c8c62": {
     "model_module": "@jupyter-widgets/controls",
     "model_module_version": "1.5.0",
     "model_name": "FloatProgressModel",
     "state": {
      "_dom_classes": [],
      "_model_module": "@jupyter-widgets/controls",
      "_model_module_version": "1.5.0",
      "_model_name": "FloatProgressModel",
      "_view_count": null,
      "_view_module": "@jupyter-widgets/controls",
      "_view_module_version": "1.5.0",
      "_view_name": "ProgressView",
      "bar_style": "success",
      "description": "",
      "description_tooltip": null,
      "layout": "IPY_MODEL_0323ec6fadde4d29a033e508966390c2",
      "max": 244408911,
      "min": 0,
      "orientation": "horizontal",
      "style": "IPY_MODEL_f57437e8b8c146d691aa72d5ab0a8ceb",
      "value": 244408911
     }
    },
    "da60b7fc301b4e0fb507dd31bfc56424": {
     "model_module": "@jupyter-widgets/base",
     "model_module_version": "1.2.0",
     "model_name": "LayoutModel",
     "state": {
      "_model_module": "@jupyter-widgets/base",
      "_model_module_version": "1.2.0",
      "_model_name": "LayoutModel",
      "_view_count": null,
      "_view_module": "@jupyter-widgets/base",
      "_view_module_version": "1.2.0",
      "_view_name": "LayoutView",
      "align_content": null,
      "align_items": null,
      "align_self": null,
      "border": null,
      "bottom": null,
      "display": null,
      "flex": null,
      "flex_flow": null,
      "grid_area": null,
      "grid_auto_columns": null,
      "grid_auto_flow": null,
      "grid_auto_rows": null,
      "grid_column": null,
      "grid_gap": null,
      "grid_row": null,
      "grid_template_areas": null,
      "grid_template_columns": null,
      "grid_template_rows": null,
      "height": null,
      "justify_content": null,
      "justify_items": null,
      "left": null,
      "margin": null,
      "max_height": null,
      "max_width": null,
      "min_height": null,
      "min_width": null,
      "object_fit": null,
      "object_position": null,
      "order": null,
      "overflow": null,
      "overflow_x": null,
      "overflow_y": null,
      "padding": null,
      "right": null,
      "top": null,
      "visibility": null,
      "width": null
     }
    },
    "f57437e8b8c146d691aa72d5ab0a8ceb": {
     "model_module": "@jupyter-widgets/controls",
     "model_module_version": "1.5.0",
     "model_name": "ProgressStyleModel",
     "state": {
      "_model_module": "@jupyter-widgets/controls",
      "_model_module_version": "1.5.0",
      "_model_name": "ProgressStyleModel",
      "_view_count": null,
      "_view_module": "@jupyter-widgets/base",
      "_view_module_version": "1.2.0",
      "_view_name": "StyleView",
      "bar_color": null,
      "description_width": ""
     }
    }
   }
  }
 },
 "nbformat": 4,
 "nbformat_minor": 1
}
